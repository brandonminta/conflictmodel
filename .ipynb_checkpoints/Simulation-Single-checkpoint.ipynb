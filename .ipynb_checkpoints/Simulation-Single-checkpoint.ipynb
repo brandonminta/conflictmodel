{
 "cells": [
  {
   "cell_type": "code",
   "execution_count": 1,
   "id": "41caf65c",
   "metadata": {},
   "outputs": [],
   "source": [
    "import sys\n",
    "sys.path.insert(0, \"/home/brandm/Documents/Tesis/conflictmodel/conflictmodel\")"
   ]
  },
  {
   "cell_type": "code",
   "execution_count": 2,
   "id": "1a6c330a",
   "metadata": {},
   "outputs": [
    {
     "ename": "ModuleNotFoundError",
     "evalue": "No module named 'conflict_model'",
     "output_type": "error",
     "traceback": [
      "\u001b[0;31m---------------------------------------------------------------------------\u001b[0m",
      "\u001b[0;31mModuleNotFoundError\u001b[0m                       Traceback (most recent call last)",
      "Cell \u001b[0;32mIn[2], line 10\u001b[0m\n\u001b[1;32m      7\u001b[0m \u001b[38;5;28;01mfrom\u001b[39;00m \u001b[38;5;21;01msklearn\u001b[39;00m\u001b[38;5;21;01m.\u001b[39;00m\u001b[38;5;21;01mlinear_model\u001b[39;00m \u001b[38;5;28;01mimport\u001b[39;00m LinearRegression\n\u001b[1;32m      8\u001b[0m \u001b[38;5;28;01mimport\u001b[39;00m \u001b[38;5;21;01mnumpy\u001b[39;00m \u001b[38;5;28;01mas\u001b[39;00m \u001b[38;5;21;01mnp\u001b[39;00m\n\u001b[0;32m---> 10\u001b[0m \u001b[38;5;28;01mimport\u001b[39;00m \u001b[38;5;21;01mconflict_model\u001b[39;00m \u001b[38;5;28;01mas\u001b[39;00m \u001b[38;5;21;01mcm\u001b[39;00m\n\u001b[1;32m     12\u001b[0m \u001b[38;5;28;01mimport\u001b[39;00m \u001b[38;5;21;01mpandas\u001b[39;00m \u001b[38;5;28;01mas\u001b[39;00m \u001b[38;5;21;01mpd\u001b[39;00m\n",
      "\u001b[0;31mModuleNotFoundError\u001b[0m: No module named 'conflict_model'"
     ]
    }
   ],
   "source": [
    "import csv\n",
    "import random\n",
    "import pickle\n",
    "\n",
    "import matplotlib.pyplot as plt\n",
    "from scipy.stats import linregress\n",
    "from sklearn.linear_model import LinearRegression\n",
    "import numpy as np\n",
    "\n",
    "import modi as cm\n",
    "\n",
    "import pandas as pd\n"
   ]
  },
  {
   "cell_type": "code",
   "execution_count": null,
   "id": "2925a62e",
   "metadata": {},
   "outputs": [],
   "source": [
    "L = 14 \n",
    "numbers = 1000"
   ]
  },
  {
   "cell_type": "markdown",
   "id": "b7fe0550",
   "metadata": {},
   "source": [
    "### Run simulation"
   ]
  },
  {
   "cell_type": "code",
   "execution_count": null,
   "id": "0cd9d7a2",
   "metadata": {},
   "outputs": [],
   "source": [
    "simulation = cm.Simulation(L, numbers, density = 0.3)"
   ]
  },
  {
   "cell_type": "code",
   "execution_count": null,
   "id": "182ad69d",
   "metadata": {},
   "outputs": [],
   "source": [
    "df, grid = simulation.run_simulation()"
   ]
  },
  {
   "cell_type": "code",
   "execution_count": null,
   "id": "6d5f1c02",
   "metadata": {},
   "outputs": [],
   "source": [
    "grid"
   ]
  },
  {
   "cell_type": "code",
   "execution_count": null,
   "id": "686c8fe5",
   "metadata": {},
   "outputs": [],
   "source": [
    "N"
   ]
  },
  {
   "cell_type": "code",
   "execution_count": null,
   "id": "c83eee1f",
   "metadata": {},
   "outputs": [],
   "source": [
    "df"
   ]
  },
  {
   "cell_type": "markdown",
   "id": "c046d9ac",
   "metadata": {},
   "source": [
    "### Data saving"
   ]
  },
  {
   "cell_type": "code",
   "execution_count": null,
   "id": "8685e05b",
   "metadata": {},
   "outputs": [],
   "source": [
    "N = L*L-int(0.3 * L*L)"
   ]
  },
  {
   "cell_type": "code",
   "execution_count": null,
   "id": "0e4232e5",
   "metadata": {},
   "outputs": [],
   "source": [
    "import os\n",
    "\n",
    "# Create the new folder inside the outputfolder\n",
    "folder_name = f\"population-{N}\"\n",
    "folder_path = os.path.join('outputfolder', folder_name)\n",
    "os.makedirs(folder_path, exist_ok=True)\n",
    "\n",
    "# Save the data in the new folder\n",
    "file_name = f\"simulation_data_{numbers}.pkl\"\n",
    "file_path = os.path.join(folder_path, file_name)\n",
    "with open(file_path, 'wb') as file:\n",
    "    pickle.dump(df, file)"
   ]
  },
  {
   "cell_type": "code",
   "execution_count": null,
   "id": "7ae4e05b",
   "metadata": {},
   "outputs": [],
   "source": [
    "# Save the matrixes in the same folder\n",
    "file_path = os.path.join(folder_path, f'matrix_list_{numbers}.pkl')\n",
    "with open(file_path, 'wb') as file:\n",
    "    pickle.dump(matrixes, file)"
   ]
  },
  {
   "cell_type": "markdown",
   "id": "7f62a405",
   "metadata": {},
   "source": [
    "## Data Analysis"
   ]
  },
  {
   "cell_type": "markdown",
   "id": "f4212ff3",
   "metadata": {},
   "source": [
    "### Activity and total Resources"
   ]
  },
  {
   "cell_type": "code",
   "execution_count": null,
   "id": "aebbb9fd",
   "metadata": {},
   "outputs": [],
   "source": [
    "# Load self.data from the pickle file\n",
    "with open('outputfolder/population-138/simulation_data_1000.pkl', 'rb') as file:\n",
    "    df = pickle.load(file)"
   ]
  },
  {
   "cell_type": "code",
   "execution_count": null,
   "id": "36bd606b",
   "metadata": {},
   "outputs": [],
   "source": [
    "# Load self.matrix_list from the pickle file\n",
    "with open('outputfolder/population-138/grid.pkl', 'rb') as file:\n",
    "    grid = pickle.load(file)"
   ]
  },
  {
   "cell_type": "code",
   "execution_count": null,
   "id": "c740d9e2",
   "metadata": {},
   "outputs": [],
   "source": [
    "plt.imshow(grid, cmap='Greys')\n",
    "plt.colorbar()\n",
    "plt.show()"
   ]
  },
  {
   "cell_type": "code",
   "execution_count": null,
   "id": "662a90f9",
   "metadata": {},
   "outputs": [],
   "source": [
    "df"
   ]
  },
  {
   "cell_type": "code",
   "execution_count": null,
   "id": "46300135",
   "metadata": {},
   "outputs": [],
   "source": [
    "x1 = np.arange(0,len(df[0]),1)"
   ]
  },
  {
   "cell_type": "code",
   "execution_count": null,
   "id": "ccb11db4",
   "metadata": {},
   "outputs": [],
   "source": [
    "total_resources = df.iloc[:, 8:].sum(axis = 1)\n"
   ]
  },
  {
   "cell_type": "code",
   "execution_count": null,
   "id": "79fb8a6a",
   "metadata": {
    "scrolled": true
   },
   "outputs": [],
   "source": [
    "# Calculate the range of years based on the length of x1\n",
    "years = range(x1[0]//(N//3), (x1[-1]//(N//3)) + 1)\n",
    "\n",
    "# Group the data by 33-year intervals and calculate the mean\n",
    "df_grouped = df[\"Activity\"].groupby((x1//(N//3))).mean()\n",
    "df_grouped2 = total_resources.groupby((x1//(N//3))).mean()\n",
    "\n",
    "fig, ax1 = plt.subplots(figsize=(27, 10), facecolor='white')\n",
    "ax2 = ax1.twinx()\n",
    "\n",
    "ax1.set_ylabel(\"Activity\", fontsize=30)\n",
    "ax2.set_ylabel(\"Total Resources\", fontsize=30)\n",
    "ax1.set_xlabel(\"Year\", fontsize=30)\n",
    "\n",
    "ax1.tick_params(axis='both', labelsize=21)\n",
    "ax2.tick_params(axis='both', labelsize=21)\n",
    "\n",
    "ax1.plot(years, df_grouped, linestyle=\" \", marker=\"+\", color=\"#FF4C4C\", label='Activity')\n",
    "ax2.plot(years, df_grouped2, linestyle=\"--\", color=\"#0055FF\", label='Total Resources')\n",
    "\n",
    "# Create the legend\n",
    "ax1.legend(loc='upper left', fontsize=16)\n",
    "ax2.legend(loc='upper right', fontsize=16)\n",
    "\n",
    "# Add parameter information as a text annotation\n",
    "params_info = f\"N: {N}\\nλ: {N//3}\"\n",
    "plt.text(0.5, 0.95, params_info, transform=fig.transFigure, fontsize=21, ha='center')\n",
    "\n",
    "plt.grid(True)\n",
    "plt.show()\n",
    "plt.close()\n"
   ]
  },
  {
   "cell_type": "markdown",
   "id": "e7642aff",
   "metadata": {},
   "source": [
    "## Conflict Sizes"
   ]
  },
  {
   "cell_type": "code",
   "execution_count": null,
   "id": "4562dfc7",
   "metadata": {},
   "outputs": [],
   "source": [
    "filtered_df = df[df[\"Status\"] == 1]"
   ]
  },
  {
   "cell_type": "code",
   "execution_count": null,
   "id": "f81eb5a9",
   "metadata": {},
   "outputs": [],
   "source": [
    "filtered_df.loc[:, 'Attackers_length'] = filtered_df['Attackers'].apply(len)\n",
    "filtered_df.loc[:, 'Defenders_length'] = filtered_df['Defenders'].apply(len)\n"
   ]
  },
  {
   "cell_type": "markdown",
   "id": "118448d2",
   "metadata": {},
   "source": [
    "### Defence coalition ($\\tau$)"
   ]
  },
  {
   "cell_type": "code",
   "execution_count": null,
   "id": "1c686d77",
   "metadata": {},
   "outputs": [],
   "source": [
    "# Extract the values of \"Tau\" from the filtered dataframe\n",
    "tau_values = filtered_df['Defenders_length']\n",
    "\n",
    "# Count the occurrences of each value in the DataFrame column\n",
    "value_counts = tau_values.value_counts()"
   ]
  },
  {
   "cell_type": "code",
   "execution_count": null,
   "id": "859e66d1",
   "metadata": {
    "scrolled": false
   },
   "outputs": [],
   "source": [
    "# Calculate the probability distribution\n",
    "prob_distribution = value_counts / len(tau_values)\n",
    "\n",
    "# Sort the values in ascending order\n",
    "sorted_values = np.sort(value_counts.index)\n",
    "\n",
    "# Increase the size of the plot\n",
    "plt.figure(figsize=(25, 10), facecolor='white')  # Adjust the values (width, height) as desired\n",
    "\n",
    "\n",
    "# Plot the probability distribution on a log-log scale\n",
    "plt.loglog(sorted_values, prob_distribution, marker='o', linestyle='', color='blue')\n",
    "\n",
    "# Perform log-log transformation\n",
    "log_sorted_values = np.log(sorted_values)\n",
    "log_prob_distribution = np.log(prob_distribution)\n",
    "\n",
    "# Perform linear regression to estimate the slope\n",
    "slope, intercept, r_value, p_value, std_err = linregress(log_sorted_values, log_prob_distribution)\n",
    "\n",
    "# Create the line that represents the best fit\n",
    "line = slope * log_sorted_values + intercept\n",
    "\n",
    "# Plot the line on the log-log plot\n",
    "plt.loglog(sorted_values, np.exp(line), color='red', label=f'Slope: {slope:.2f}')\n",
    "\n",
    "# Increase the font size of the axis labels and tick labels\n",
    "plt.xlabel(r\"Participants - $\\tau$\", fontsize=25)\n",
    "plt.ylabel(r\"Probability $P(\\tau)$\", fontsize=25)\n",
    "plt.title(\"Probability Distribution - Defence coalition Size\", fontsize=25)\n",
    "\n",
    "# Add parameter information as a text annotation\n",
    "params_info = f\"N: {N}\\nλ: {N//3}\"\n",
    "plt.text(0.5, 0.95, params_info, fontsize=18, transform=plt.gca().transAxes,\n",
    "         verticalalignment='top', bbox=dict(boxstyle='round', facecolor='white', edgecolor='gray', alpha=0.8))\n",
    "\n",
    "\n",
    "# Increase the font size of the tick labels\n",
    "plt.xticks(fontsize=18)\n",
    "plt.yticks(fontsize=19)\n",
    "\n",
    "plt.legend(fontsize=24)\n",
    "\n",
    "plt.grid(True)\n",
    "plt.show()\n"
   ]
  },
  {
   "cell_type": "markdown",
   "id": "ddcb7f32",
   "metadata": {},
   "source": [
    "### Attack coalition ($\\alpha$)"
   ]
  },
  {
   "cell_type": "code",
   "execution_count": null,
   "id": "04808aad",
   "metadata": {},
   "outputs": [],
   "source": [
    "# Extract the values of \"Tau\" from the filtered dataframe\n",
    "alpha_values = filtered_df['Attackers_length']\n",
    "\n",
    "# Count the occurrences of each value in the DataFrame column\n",
    "value_counts = alpha_values.value_counts()"
   ]
  },
  {
   "cell_type": "code",
   "execution_count": null,
   "id": "6fd1952d",
   "metadata": {
    "scrolled": false
   },
   "outputs": [],
   "source": [
    "# Calculate the probability distribution\n",
    "prob_distribution = value_counts / len(tau_values)\n",
    "\n",
    "# Sort the values in ascending order\n",
    "sorted_values = np.sort(value_counts.index)\n",
    "\n",
    "# Increase the size of the plot\n",
    "plt.figure(figsize=(25, 10), facecolor='white')  # Adjust the values (width, height) as desired\n",
    "\n",
    "\n",
    "# Plot the probability distribution on a log-log scale\n",
    "plt.loglog(sorted_values, prob_distribution, marker='o', linestyle='', color='blue')\n",
    "\n",
    "# Perform log-log transformation\n",
    "log_sorted_values = np.log(sorted_values)\n",
    "log_prob_distribution = np.log(prob_distribution)\n",
    "\n",
    "# Perform linear regression to estimate the slope\n",
    "slope, intercept, r_value, p_value, std_err = linregress(log_sorted_values, log_prob_distribution)\n",
    "\n",
    "# Create the line that represents the best fit\n",
    "line = slope * log_sorted_values + intercept\n",
    "\n",
    "# Plot the line on the log-log plot\n",
    "plt.loglog(sorted_values, np.exp(line), color='red', label=f'Slope: {slope:.2f}')\n",
    "\n",
    "# Increase the font size of the axis labels and tick labels\n",
    "plt.xlabel(r\"Participants - $\\alpha$\", fontsize=25)\n",
    "plt.ylabel(r\"Probability $P(\\alpha)$\", fontsize=25)\n",
    "plt.title(\"Probability Distribution- Attacking coalition Size\", fontsize=25)\n",
    "\n",
    "# Add parameter information as a text annotation\n",
    "params_info = f\"N: {N}\\nλ: {N//3}\"\n",
    "plt.text(0.5, 0.95, params_info, fontsize=18, transform=plt.gca().transAxes,\n",
    "         verticalalignment='top', bbox=dict(boxstyle='round', facecolor='white', edgecolor='gray', alpha=0.8))\n",
    "\n",
    "\n",
    "# Increase the font size of the tick labels\n",
    "plt.xticks(fontsize=18)\n",
    "plt.yticks(fontsize=19)\n",
    "\n",
    "plt.legend(fontsize=24)\n",
    "\n",
    "plt.grid(True)\n",
    "plt.show()\n"
   ]
  },
  {
   "cell_type": "markdown",
   "id": "6d58a39a",
   "metadata": {},
   "source": [
    "# Periods of peace"
   ]
  },
  {
   "cell_type": "code",
   "execution_count": null,
   "id": "2bf57aca",
   "metadata": {
    "scrolled": false
   },
   "outputs": [],
   "source": [
    "peace = df[df[\"Status\"] != 1].groupby((df[\"Status\"] == 1).cumsum()).size().tolist()\n",
    "\n",
    "# Calculate the unique values and their respective frequencies\n",
    "unique_values, frequencies = np.unique(peace, return_counts=True)\n",
    "\n",
    "# Calculate the total number of data points\n",
    "total_data_points = len(peace)\n",
    "\n",
    "# Calculate the probability frequencies\n",
    "prob_frequencies = frequencies / total_data_points\n",
    "\n",
    "# Increase the size of the plot\n",
    "plt.figure(figsize=(25, 10), facecolor='white')  # Adjust the figure size as desired\n",
    "\n",
    "# Plot the probability frequency on a log-log scale\n",
    "plt.loglog(unique_values, prob_frequencies, marker='o', linestyle='', color='blue')\n",
    "\n",
    "# Perform linear regression to find the line that fits the data\n",
    "x = np.log10(unique_values).reshape(-1, 1)\n",
    "y = np.log10(prob_frequencies)\n",
    "reg = LinearRegression().fit(x, y)\n",
    "\n",
    "# Plot the line that fits the data\n",
    "plt.loglog(unique_values, 10 ** reg.predict(x), color='red', linestyle='--',\n",
    "           label=f\"Line of Best Fit (Slope: {reg.coef_[0]:.2f})\")\n",
    "\n",
    "# Set the labels and title of the plot\n",
    "plt.xlabel(\"Peace Intervals\", fontsize=25)\n",
    "plt.ylabel(\"Probability Frequency\", fontsize=25)\n",
    "plt.title(\"Probability Frequency of Peace Intervals\", fontsize=25)\n",
    "\n",
    "# Add parameter information as a text annotation\n",
    "params_info = f\"N: {N}\\nλ: {N//3}\"\n",
    "plt.text(0.5, 0.95, params_info, fontsize=18, transform=plt.gca().transAxes,\n",
    "         verticalalignment='top', bbox=dict(boxstyle='round', facecolor='white', edgecolor='gray', alpha=0.8))\n",
    "\n",
    "# Increase the font size of the tick labels\n",
    "plt.xticks(fontsize=18)\n",
    "plt.yticks(fontsize=19)\n",
    "\n",
    "# Increase the size of the legend\n",
    "plt.legend(fontsize=24)\n",
    "\n",
    "# Show the plot\n",
    "plt.grid(True)\n",
    "plt.show()\n"
   ]
  },
  {
   "cell_type": "markdown",
   "id": "ca8f31c1",
   "metadata": {},
   "source": [
    "# Activity"
   ]
  },
  {
   "cell_type": "code",
   "execution_count": null,
   "id": "75e305cc",
   "metadata": {},
   "outputs": [],
   "source": [
    "# Calculate the unique values and their respective frequencies\n",
    "unique_values, frequencies = np.unique(df_grouped.round(8), return_counts=True)\n",
    "\n",
    "\n",
    "# Calculate the total number of data points\n",
    "total_data_points = len(df_grouped)\n",
    "\n",
    "# Calculate the probability frequencies\n",
    "prob_frequencies = frequencies / total_data_points\n",
    "\n",
    "# Increase the size of the plot\n",
    "plt.figure(figsize=(25, 10), facecolor='white')  # Adjust the figure size as desired\n",
    "\n",
    "# Plot the probability frequency on a log-log scale\n",
    "plt.loglog(unique_values, prob_frequencies, marker='o', linestyle='', color='blue')\n",
    "\n",
    "# Set the labels and title of the plot\n",
    "plt.xlabel(\"Activity\", fontsize=25)\n",
    "plt.ylabel(\"Probability Frequency\", fontsize=25)\n",
    "plt.title(\"Probability Frequency of Activity - Log-Log Scale\", fontsize=25)\n",
    "\n",
    "# Add parameter information as a text annotation\n",
    "params_info = f\"N: {N}\\nλ: {N//3}\"\n",
    "plt.text(0.5, 0.95, params_info, fontsize=18, transform=plt.gca().transAxes,\n",
    "         verticalalignment='top', bbox=dict(boxstyle='round', facecolor='white', edgecolor='gray', alpha=0.8))\n",
    "\n",
    "# Increase the font size of the tick labels\n",
    "plt.xticks(fontsize=18)\n",
    "plt.yticks(fontsize=19)\n",
    "\n",
    "\n",
    "# Show the plot\n",
    "plt.grid(True)\n",
    "plt.show()\n"
   ]
  },
  {
   "cell_type": "markdown",
   "id": "ba60e0bf",
   "metadata": {},
   "source": [
    "# Total loss"
   ]
  },
  {
   "cell_type": "code",
   "execution_count": null,
   "id": "12d57f7c",
   "metadata": {},
   "outputs": [],
   "source": [
    "# Calculate the unique participants and their respective counts\n",
    "participants, counts = np.unique(df_grouped2.round(3), return_counts=True)\n",
    "\n",
    "# Sort the unique participants in ascending order\n",
    "participants_sorted = np.sort(participants)\n",
    "\n",
    "# Calculate the cumulative frequencies\n",
    "cumulative_freq = np.cumsum(counts) / np.sum(counts)\n",
    "\n",
    "# Calculate the log of participants and cumulative frequencies\n",
    "log_participants = np.log10(participants_sorted)\n",
    "log_cumulative_freq = np.log10(cumulative_freq)\n",
    "\n",
    "# Increase the size of the plot\n",
    "plt.figure(figsize=(25, 10),facecolor='white')  # Adjust the values (width, height) as desired\n",
    "\n",
    "# Create the log-log plot\n",
    "plt.loglog(participants_sorted, cumulative_freq, marker='o', linestyle='', color='blue')\n",
    "\n",
    "# # Calculate the slope and intercept of the line\n",
    "# slope, intercept = np.polyfit(log_participants, log_cumulative_freq, deg=1)\n",
    "\n",
    "# # Plot the line that best fits the data\n",
    "# plt.plot(participants_sorted, 10**(intercept + slope*log_participants), linestyle='--', color='red', label=f\"Slope: {slope:.2f}\")\n",
    "\n",
    "# Increase the font size of the axis labels and tick labels\n",
    "plt.xlabel(\"Total loss\", fontsize=25)\n",
    "plt.ylabel(\"Cumulative Frequency\", fontsize=25)\n",
    "plt.title(\"Cumulative Frequency Log-Log Plot\", fontsize=25)\n",
    "\n",
    "# Add parameter information as a text annotation\n",
    "params_info = f\"N: {N}\\nλ: {N//3}\"\n",
    "plt.text(0.5, 0.95, params_info, fontsize=18, transform=plt.gca().transAxes,\n",
    "         verticalalignment='top', bbox=dict(boxstyle='round', facecolor='white', edgecolor='gray', alpha=0.8))\n",
    "\n",
    "\n",
    "# Increase the font size of the tick labels\n",
    "plt.xticks(fontsize=18)\n",
    "plt.yticks(fontsize=19)\n",
    "\n",
    "# Show the plot\n",
    "plt.show()"
   ]
  },
  {
   "cell_type": "markdown",
   "id": "d5628755",
   "metadata": {},
   "source": [
    "los edges acorde a Axelrod  diferente grosor"
   ]
  },
  {
   "cell_type": "markdown",
   "id": "1d06093d",
   "metadata": {},
   "source": [
    "exponente en funcion alpha en funcion en el numero de activaciones por año ver que es el alpha y ver en que influye en enumero de conflictos por año o por que no se conserva la ley de potencia.\n",
    "densidad de obstaculos, densidad de obstaculos = .\n",
    "\n",
    "\n",
    "incrementar el numero de vecinos paulatinamente. \n"
   ]
  }
 ],
 "metadata": {
  "kernelspec": {
   "display_name": "Python 3 (ipykernel)",
   "language": "python",
   "name": "python3"
  },
  "language_info": {
   "codemirror_mode": {
    "name": "ipython",
    "version": 3
   },
   "file_extension": ".py",
   "mimetype": "text/x-python",
   "name": "python",
   "nbconvert_exporter": "python",
   "pygments_lexer": "ipython3",
   "version": "3.9.17"
  }
 },
 "nbformat": 4,
 "nbformat_minor": 5
}
