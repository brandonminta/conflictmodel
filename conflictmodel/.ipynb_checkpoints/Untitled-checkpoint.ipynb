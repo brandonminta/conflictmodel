{
 "cells": [
  {
   "cell_type": "code",
   "execution_count": null,
   "id": "5c0aa587",
   "metadata": {},
   "outputs": [],
   "source": [
    "import numpy as np\n",
    "import h5py\n",
    "import matplotlib.pyplot as plt\n",
    "import os\n",
    "\n",
    "\n",
    "# Step 2: Define a directory to save the file\n",
    "save_directory = \"array_data\"\n",
    "os.makedirs(save_directory, exist_ok=True)\n",
    "\n",
    "# Step 3: Save the arrays to an HDF5 file\n",
    "file_path = os.path.join(save_directory, \"arrays.h5\")\n",
    "\n",
    "with h5py.File(file_path, 'w') as hf:\n",
    "    for i in range(10):\n",
    "        hf.create_dataset(f'matrix_{i}', data=np.random.rand(100, 100))\n",
    "\n",
    "# Step 4: Load the arrays from the HDF5 file\n",
    "loaded_data = {}\n",
    "with h5py.File(file_path, 'r') as hf:\n",
    "    for i in range():  # Load the first 2 matrices\n",
    "        loaded_data[f'matrix_{i}'] = np.array(hf[f'matrix_{i}'])\n",
    "\n",
    "# Step 5: Plot the first 2 matrices\n",
    "first_matrix = loaded_data['matrix_0']\n",
    "second_matrix = loaded_data['matrix_1']\n",
    "\n",
    "# Plot the first matrix\n",
    "plt.figure(figsize=(10, 5))\n",
    "plt.subplot(1, 2, 1)\n",
    "plt.imshow(first_matrix, cmap='viridis')\n",
    "plt.title('First Matrix')\n",
    "\n",
    "# Plot the second matrix\n",
    "plt.subplot(1, 2, 2)\n",
    "plt.imshow(second_matrix, cmap='viridis')\n",
    "plt.title('Second Matrix')\n",
    "\n",
    "plt.tight_layout()\n",
    "plt.show()\n"
   ]
  },
  {
   "cell_type": "code",
   "execution_count": 1,
   "id": "be641057",
   "metadata": {},
   "outputs": [],
   "source": [
    "import numpy as np\n",
    "\n",
    "grid = np.zeros((3, 3), dtype=int)"
   ]
  },
  {
   "cell_type": "code",
   "execution_count": 55,
   "id": "7eb8ecac",
   "metadata": {},
   "outputs": [],
   "source": [
    "actor_positions = np.argwhere(grid == 0)"
   ]
  },
  {
   "cell_type": "code",
   "execution_count": 56,
   "id": "94f1c908",
   "metadata": {},
   "outputs": [],
   "source": [
    "N = len(actor_positions)"
   ]
  },
  {
   "cell_type": "code",
   "execution_count": 57,
   "id": "f55674c1",
   "metadata": {},
   "outputs": [],
   "source": [
    "import random\n",
    "capital = np.zeros(N + 2)\n",
    "for i in range(N):\n",
    "            capital[i] = round(random.randrange(300,500,1), 1)"
   ]
  },
  {
   "cell_type": "code",
   "execution_count": 58,
   "id": "581c2e50",
   "metadata": {},
   "outputs": [
    {
     "data": {
      "text/plain": [
       "array([413., 463., 374., 406., 418., 387.,   0.,   0.])"
      ]
     },
     "execution_count": 58,
     "metadata": {},
     "output_type": "execute_result"
    }
   ],
   "source": [
    "capital"
   ]
  },
  {
   "cell_type": "code",
   "execution_count": 24,
   "id": "e909c114",
   "metadata": {},
   "outputs": [],
   "source": [
    "attacker = 4"
   ]
  },
  {
   "cell_type": "code",
   "execution_count": 12,
   "id": "df4de75f",
   "metadata": {},
   "outputs": [],
   "source": [
    "random_matrix = np.eye(9)"
   ]
  },
  {
   "cell_type": "code",
   "execution_count": 39,
   "id": "7b9d2afd",
   "metadata": {},
   "outputs": [],
   "source": [
    "random_matrix[4,0] = 0.9"
   ]
  },
  {
   "cell_type": "code",
   "execution_count": 40,
   "id": "4432b133",
   "metadata": {},
   "outputs": [
    {
     "data": {
      "text/plain": [
       "array([[1. , 0. , 0. , 0. , 0.9, 0. , 0. , 0. , 0. ],\n",
       "       [0. , 1. , 0. , 0. , 1. , 0. , 0. , 0. , 0. ],\n",
       "       [0. , 0. , 1. , 0. , 1. , 0. , 0. , 0. , 0. ],\n",
       "       [0. , 0. , 0. , 1. , 1. , 0. , 0. , 0. , 0. ],\n",
       "       [0.9, 1. , 1. , 1. , 1. , 1. , 1. , 1. , 1. ],\n",
       "       [0. , 0. , 0. , 0. , 1. , 1. , 0. , 0. , 0. ],\n",
       "       [0. , 0. , 0. , 0. , 1. , 0. , 1. , 0. , 0. ],\n",
       "       [0. , 0. , 0. , 0. , 1. , 0. , 0. , 1. , 0. ],\n",
       "       [0. , 0. , 0. , 0. , 1. , 0. , 0. , 0. , 1. ]])"
      ]
     },
     "execution_count": 40,
     "metadata": {},
     "output_type": "execute_result"
    }
   ],
   "source": [
    "random_matrix"
   ]
  },
  {
   "cell_type": "code",
   "execution_count": 53,
   "id": "2d6d349a",
   "metadata": {},
   "outputs": [],
   "source": [
    "grid[0,1] = 0"
   ]
  },
  {
   "cell_type": "code",
   "execution_count": 54,
   "id": "34897fb2",
   "metadata": {},
   "outputs": [
    {
     "data": {
      "text/plain": [
       "array([[1, 0, 1],\n",
       "       [0, 0, 1],\n",
       "       [0, 0, 0]])"
      ]
     },
     "execution_count": 54,
     "metadata": {},
     "output_type": "execute_result"
    }
   ],
   "source": [
    "grid"
   ]
  },
  {
   "cell_type": "code",
   "execution_count": 19,
   "id": "63e4152a",
   "metadata": {},
   "outputs": [],
   "source": [
    "import importlib\n"
   ]
  },
  {
   "cell_type": "code",
   "execution_count": null,
   "id": "815ecc32",
   "metadata": {},
   "outputs": [],
   "source": [
    "importlib.reload(finder)\n"
   ]
  },
  {
   "cell_type": "code",
   "execution_count": 20,
   "id": "763cb932",
   "metadata": {},
   "outputs": [],
   "source": [
    "import candidate_finder as finder"
   ]
  },
  {
   "cell_type": "code",
   "execution_count": 46,
   "id": "52a22d6f",
   "metadata": {},
   "outputs": [],
   "source": [
    "current_status, attacker_alley, target_alley = finder.finding_candidates(4, capital, actor_positions, random_matrix, grid)"
   ]
  },
  {
   "cell_type": "code",
   "execution_count": 47,
   "id": "a76bfb36",
   "metadata": {},
   "outputs": [
    {
     "data": {
      "text/plain": [
       "[3, 311.0, 3168.7, 225.46312367848012]"
      ]
     },
     "execution_count": 47,
     "metadata": {},
     "output_type": "execute_result"
    }
   ],
   "source": [
    "current_status"
   ]
  },
  {
   "cell_type": "code",
   "execution_count": 41,
   "id": "55535527",
   "metadata": {},
   "outputs": [],
   "source": [
    "capital[1] = 382"
   ]
  },
  {
   "cell_type": "code",
   "execution_count": 48,
   "id": "bf28d10c",
   "metadata": {},
   "outputs": [
    {
     "data": {
      "text/plain": [
       "array([3])"
      ]
     },
     "execution_count": 48,
     "metadata": {},
     "output_type": "execute_result"
    }
   ],
   "source": [
    "target_alley"
   ]
  },
  {
   "cell_type": "code",
   "execution_count": 49,
   "id": "22e08f1f",
   "metadata": {},
   "outputs": [
    {
     "data": {
      "text/plain": [
       "array([4, 1, 7, 5, 0, 2, 6, 8])"
      ]
     },
     "execution_count": 49,
     "metadata": {},
     "output_type": "execute_result"
    }
   ],
   "source": [
    "attacker_alley"
   ]
  },
  {
   "cell_type": "code",
   "execution_count": null,
   "id": "7fb6b5f2",
   "metadata": {},
   "outputs": [],
   "source": []
  }
 ],
 "metadata": {
  "kernelspec": {
   "display_name": "Python 3 (ipykernel)",
   "language": "python",
   "name": "python3"
  },
  "language_info": {
   "codemirror_mode": {
    "name": "ipython",
    "version": 3
   },
   "file_extension": ".py",
   "mimetype": "text/x-python",
   "name": "python",
   "nbconvert_exporter": "python",
   "pygments_lexer": "ipython3",
   "version": "3.9.17"
  }
 },
 "nbformat": 4,
 "nbformat_minor": 5
}
